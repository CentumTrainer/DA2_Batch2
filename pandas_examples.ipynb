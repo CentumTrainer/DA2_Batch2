{
 "cells": [
  {
   "cell_type": "markdown",
   "metadata": {},
   "source": [
    "                    Data Handling in Python using Pandas    "
   ]
  },
  {
   "cell_type": "code",
   "execution_count": null,
   "metadata": {},
   "outputs": [],
   "source": [
    "# Data Str. in Pandas\n",
    "# Series :  One-dim\n",
    "# How to create series in Pandas-\n",
    "#In-build function  Series() used to crete series\n",
    "\n",
    "# how to create a series using list\n",
    "\n",
    "import pandas as pd \n",
    "empseries = pd.Series(['John','Williams','Allen'])\n",
    "print(empseries)\n"
   ]
  },
  {
   "cell_type": "code",
   "execution_count": null,
   "metadata": {},
   "outputs": [],
   "source": [
    "# how to create a series using Dictionary\n",
    "\n",
    "import pandas as pd\n",
    "\n",
    "#create a dictionary\n",
    "product  = {'Prod_ID':1001, 'Name':'Laptop','Price':65000}\n",
    "\n",
    "#create a series\n",
    "prod_ser = pd.Series(product)\n",
    "\n",
    "print(prod_ser)"
   ]
  },
  {
   "cell_type": "code",
   "execution_count": null,
   "metadata": {},
   "outputs": [],
   "source": [
    "#Head & Tail function in Series-\n",
    "#head() : used to access first 5 rows of a series\n",
    "\n",
    "import pandas as pd\n",
    "\n",
    "s = pd.Series(['Desktop','Laptop','Printer','Keyboard','Mouse','USB'])\n",
    "print(s)\n",
    "print(s.head())\n",
    "print('.....head() with parameter...')\n",
    "print(s.head(3))"
   ]
  },
  {
   "cell_type": "code",
   "execution_count": null,
   "metadata": {},
   "outputs": [],
   "source": [
    "#tail() : used to last 5 rows of a series\n",
    "import pandas as pd\n",
    "\n",
    "s = pd.Series(['Desktop','Laptop','Printer','Keyboard','Mouse','USB'])\n",
    "print(type(s))\n",
    "#print(s)\n",
    "#print(s.tail()) #fetch last five records\n",
    "print(s.tail(2)) #fetch last two records"
   ]
  },
  {
   "cell_type": "code",
   "execution_count": null,
   "metadata": {},
   "outputs": [],
   "source": [
    "#Selection in series\n",
    "#loc() - location\n",
    "#iloc() - indexlocation\n",
    "\n",
    "#syntax: s_name.loc[startIndex : endIndex] (index included)\n",
    "import pandas as pd\n",
    "\n",
    "s = pd.Series(['Desktop','Laptop','Printer','Keyboard','Mouse','USB'])\n",
    "#print(s)\n",
    "#print(s.loc[:2]) #to print values from index 0 to 2\n",
    "print(s.loc[3:4])\n",
    "    "
   ]
  },
  {
   "cell_type": "code",
   "execution_count": null,
   "metadata": {},
   "outputs": [],
   "source": [
    "import pandas as pd\n",
    "#iloc : Range\n",
    "\n",
    "s = pd.Series(['Desktop','Laptop','Printer','Keyboard','Mouse','USB'])\n",
    "print(s.iloc[:2])\n",
    "print(s.iloc[3:4])"
   ]
  },
  {
   "cell_type": "code",
   "execution_count": null,
   "metadata": {},
   "outputs": [],
   "source": [
    "# how to fetch sp. element from a series\n",
    "import pandas as pd\n",
    "\n",
    "s = pd.Series(['Desktop','Laptop','Printer','Keyboard','Mouse','USB'])\n",
    "print(s[4])"
   ]
  },
  {
   "cell_type": "code",
   "execution_count": null,
   "metadata": {},
   "outputs": [],
   "source": [
    "#slicing with step\n",
    "import pandas as pd\n",
    "\n",
    "s = pd.Series(['Desktop','Laptop','Printer','Keyboard','Mouse','USB'])\n",
    "print(s[1::2])"
   ]
  },
  {
   "cell_type": "code",
   "execution_count": null,
   "metadata": {},
   "outputs": [],
   "source": [
    "#DataFrame : (multi-dim/tabular)\n",
    "#how to create a dataframe\n",
    "\n",
    "#In-build DataFrame()\n",
    "#dataframe creation using series...\n",
    "\n",
    "import pandas as pd\n",
    "s = pd.Series(['Desktop','Laptop','Printer','Keyboard','Mouse','USB'])\n",
    "d = pd.DataFrame(s)\n",
    "print(d)\n"
   ]
  },
  {
   "cell_type": "code",
   "execution_count": null,
   "metadata": {},
   "outputs": [],
   "source": [
    "#Dataframe from Dictionary of Series\n",
    "import pandas as pd\n",
    "\n",
    "pname = pd.Series(['Desktop','Laptop','Tablet'])\n",
    "pqty = pd.Series([20,15,12])\n",
    "pprice = pd.Series([20000,55000,15000])\n",
    "\n",
    "pdic = {'Name':pname, 'Price':pprice,'PQuantity':pqty}\n",
    "\n",
    "prod_df = pd.DataFrame(pdic)\n",
    "#print(prod_df)\n",
    "print(prod_df[[\"Name\",\"PQuantity\"]])"
   ]
  },
  {
   "cell_type": "code",
   "execution_count": null,
   "metadata": {},
   "outputs": [],
   "source": [
    "#DataFrame from list of Dictionaries\n",
    "import pandas as pd\n",
    "\n",
    "lst = [{'Name':'Desktop','Price':'20000'}, {'Name':'Laptop','Price':'60000'}, {'Name':'Tablet','Price':'12000'}]\n",
    "df1 = pd.DataFrame(lst)\n",
    "print(df1)"
   ]
  },
  {
   "cell_type": "code",
   "execution_count": null,
   "metadata": {},
   "outputs": [],
   "source": [
    "#Iteration on Rows and columns\n",
    "#fetch row-wise or column-wise records from Dataframe\n",
    "#1. iterrows()\n",
    "#2. iteritems() - (items())\n",
    "\n",
    "#iterrows() : row-wise\n",
    "import pandas as pd\n",
    "\n",
    "lst = [{'Name':'Desktop','Price':'20000'}, {'Name':'Laptop','Price':'60000'}, {'Name':'Tablet','Price':'12000'}]\n",
    "df1 = pd.DataFrame(lst)\n",
    "for (row_idex,row_value) in df1. iterrows():\n",
    "    print(\"\\n Row index is :\",row_idex)\n",
    "    print(\"\\n Row value is :\",row_value)\n",
    "    \n",
    "  "
   ]
  },
  {
   "cell_type": "code",
   "execution_count": null,
   "metadata": {},
   "outputs": [],
   "source": [
    "#Iteration on Rows and columns\n",
    "#fetch row-wise or column-wise records from Dataframe\n",
    "#1. iterrows()\n",
    "#2. iteritems()\n",
    "\n",
    "#iteritems() : column-wise\n",
    "import pandas as pd\n",
    "\n",
    "lst = [{'Name':'Desktop','Price':'20000'}, {'Name':'Laptop','Price':'60000'}, {'Name':'Tablet','Price':'12000'}]\n",
    "df1 = pd.DataFrame(lst)\n",
    "for (col_name,col_value) in df1. iteritems():\n",
    "    print(\"\\nRow index is :\",col_name)\n",
    "    print(\"\\nRow value is :\\n\",col_value)\n",
    "    "
   ]
  },
  {
   "cell_type": "code",
   "execution_count": 1,
   "metadata": {},
   "outputs": [
    {
     "name": "stdout",
     "output_type": "stream",
     "text": [
      "   empid     ename  esalary\n",
      "0    101     Allen    25000\n",
      "1    102    Donald    30000\n",
      "2    103     Kelly    45000\n",
      "3    104  Pattrick    40000\n",
      "4    105  Williams    34000\n"
     ]
    }
   ],
   "source": [
    "#select operation in DataFrame\n",
    "#access column data \n",
    "\n",
    "import pandas as pd\n",
    "\n",
    "employeedet ={'empid':[101,102,103,104,105],'ename':['Allen','Donald','Kelly','Pattrick','Williams'],'esalary':[25000,30000,45000,40000,34000]}\n",
    "emp_df = pd.DataFrame(employeedet)\n",
    "print(emp_df)"
   ]
  },
  {
   "cell_type": "code",
   "execution_count": 2,
   "metadata": {},
   "outputs": [
    {
     "name": "stdout",
     "output_type": "stream",
     "text": [
      "0    101\n",
      "1    102\n",
      "2    103\n",
      "3    104\n",
      "4    105\n",
      "Name: empid, dtype: int64\n"
     ]
    }
   ],
   "source": [
    "print(emp_df.empid)"
   ]
  },
  {
   "cell_type": "code",
   "execution_count": 5,
   "metadata": {},
   "outputs": [
    {
     "name": "stdout",
     "output_type": "stream",
     "text": [
      "   empid  esalary\n",
      "0    101    25000\n",
      "1    102    30000\n",
      "2    103    45000\n",
      "3    104    40000\n",
      "4    105    34000\n"
     ]
    }
   ],
   "source": [
    "print(emp_df[['empid','esalary']])"
   ]
  },
  {
   "cell_type": "code",
   "execution_count": 8,
   "metadata": {},
   "outputs": [
    {
     "name": "stdout",
     "output_type": "stream",
     "text": [
      "   empid     ename  esalary joining_date\n",
      "0    101     Allen    25000   12-05-2018\n",
      "1    102    Donald    30000   01-07-2015\n",
      "2    103     Kelly    45000   23-02-2016\n",
      "3    104  Pattrick    40000    1-04-2019\n",
      "4    105  Williams    34000   10-05-2015\n"
     ]
    }
   ],
   "source": [
    "#How to add new column to dataframe\n",
    "import pandas as pd\n",
    "\n",
    "employeedet ={'empid':[101,102,103,104,105],'ename':['Allen','Donald','Kelly','Pattrick','Williams'],'esalary':[25000,30000,45000,40000,34000]}\n",
    "emp_df = pd.DataFrame(employeedet)\n",
    "#print(emp_df)\n",
    "#adding new column to a dataframe\n",
    "emp_df['joining_date']=['12-05-2018','01-07-2015','23-02-2016','1-04-2019','10-05-2015']\n",
    "print(emp_df)\n",
    "\n"
   ]
  },
  {
   "cell_type": "code",
   "execution_count": 11,
   "metadata": {},
   "outputs": [
    {
     "name": "stdout",
     "output_type": "stream",
     "text": [
      "   empid     ename  esalary\n",
      "0    101     Allen    25000\n",
      "1    102    Donald    30000\n",
      "2    103     Kelly    45000\n",
      "3    104  Pattrick    40000\n",
      "4    105  Williams    34000\n"
     ]
    },
    {
     "data": {
      "text/html": [
       "<div>\n",
       "<style scoped>\n",
       "    .dataframe tbody tr th:only-of-type {\n",
       "        vertical-align: middle;\n",
       "    }\n",
       "\n",
       "    .dataframe tbody tr th {\n",
       "        vertical-align: top;\n",
       "    }\n",
       "\n",
       "    .dataframe thead th {\n",
       "        text-align: right;\n",
       "    }\n",
       "</style>\n",
       "<table border=\"1\" class=\"dataframe\">\n",
       "  <thead>\n",
       "    <tr style=\"text-align: right;\">\n",
       "      <th></th>\n",
       "      <th>empid</th>\n",
       "      <th>ename</th>\n",
       "      <th>esalary</th>\n",
       "      <th>Salary_with_bonus</th>\n",
       "    </tr>\n",
       "  </thead>\n",
       "  <tbody>\n",
       "    <tr>\n",
       "      <td>0</td>\n",
       "      <td>101</td>\n",
       "      <td>Allen</td>\n",
       "      <td>25000</td>\n",
       "      <td>26250.0</td>\n",
       "    </tr>\n",
       "    <tr>\n",
       "      <td>1</td>\n",
       "      <td>102</td>\n",
       "      <td>Donald</td>\n",
       "      <td>30000</td>\n",
       "      <td>31500.0</td>\n",
       "    </tr>\n",
       "    <tr>\n",
       "      <td>2</td>\n",
       "      <td>103</td>\n",
       "      <td>Kelly</td>\n",
       "      <td>45000</td>\n",
       "      <td>47250.0</td>\n",
       "    </tr>\n",
       "    <tr>\n",
       "      <td>3</td>\n",
       "      <td>104</td>\n",
       "      <td>Pattrick</td>\n",
       "      <td>40000</td>\n",
       "      <td>42000.0</td>\n",
       "    </tr>\n",
       "    <tr>\n",
       "      <td>4</td>\n",
       "      <td>105</td>\n",
       "      <td>Williams</td>\n",
       "      <td>34000</td>\n",
       "      <td>35700.0</td>\n",
       "    </tr>\n",
       "  </tbody>\n",
       "</table>\n",
       "</div>"
      ],
      "text/plain": [
       "   empid     ename  esalary  Salary_with_bonus\n",
       "0    101     Allen    25000            26250.0\n",
       "1    102    Donald    30000            31500.0\n",
       "2    103     Kelly    45000            47250.0\n",
       "3    104  Pattrick    40000            42000.0\n",
       "4    105  Williams    34000            35700.0"
      ]
     },
     "execution_count": 11,
     "metadata": {},
     "output_type": "execute_result"
    }
   ],
   "source": [
    "#How to add new column to dataframe\n",
    "import pandas as pd\n",
    "\n",
    "employeedet ={'empid':[101,102,103,104,105],'ename':['Allen','Donald','Kelly','Pattrick','Williams'],'esalary':[25000,30000,45000,40000,34000]}\n",
    "e_df = pd.DataFrame(employeedet)\n",
    "print(e_df)\n",
    "e_df['Salary_with_bonus']=e_df['esalary']+e_df['esalary']*.05\n",
    "print(e_df)"
   ]
  },
  {
   "cell_type": "code",
   "execution_count": 15,
   "metadata": {},
   "outputs": [
    {
     "name": "stdout",
     "output_type": "stream",
     "text": [
      "   employee_ID     ename  esalary  Salary_with_bonus\n",
      "0          101     Allen    25000            26250.0\n",
      "1          102    Donald    30000            31500.0\n",
      "2          103     Kelly    45000            47250.0\n",
      "3          104  Pattrick    40000            42000.0\n",
      "4          105  Williams    34000            35700.0\n"
     ]
    }
   ],
   "source": [
    "#how to rename the column\n",
    "e_df.rename(columns = {\"empid\":\"employee_ID\"}, inplace=True)\n",
    "print(e_df)"
   ]
  },
  {
   "cell_type": "code",
   "execution_count": 17,
   "metadata": {},
   "outputs": [
    {
     "data": {
      "text/html": [
       "<div>\n",
       "<style scoped>\n",
       "    .dataframe tbody tr th:only-of-type {\n",
       "        vertical-align: middle;\n",
       "    }\n",
       "\n",
       "    .dataframe tbody tr th {\n",
       "        vertical-align: top;\n",
       "    }\n",
       "\n",
       "    .dataframe thead th {\n",
       "        text-align: right;\n",
       "    }\n",
       "</style>\n",
       "<table border=\"1\" class=\"dataframe\">\n",
       "  <thead>\n",
       "    <tr style=\"text-align: right;\">\n",
       "      <th></th>\n",
       "      <th>employee_ID</th>\n",
       "      <th>ename</th>\n",
       "      <th>esalary</th>\n",
       "    </tr>\n",
       "  </thead>\n",
       "  <tbody>\n",
       "    <tr>\n",
       "      <td>0</td>\n",
       "      <td>101</td>\n",
       "      <td>Allen</td>\n",
       "      <td>25000</td>\n",
       "    </tr>\n",
       "    <tr>\n",
       "      <td>1</td>\n",
       "      <td>102</td>\n",
       "      <td>Donald</td>\n",
       "      <td>30000</td>\n",
       "    </tr>\n",
       "    <tr>\n",
       "      <td>2</td>\n",
       "      <td>103</td>\n",
       "      <td>Kelly</td>\n",
       "      <td>45000</td>\n",
       "    </tr>\n",
       "    <tr>\n",
       "      <td>3</td>\n",
       "      <td>104</td>\n",
       "      <td>Pattrick</td>\n",
       "      <td>40000</td>\n",
       "    </tr>\n",
       "    <tr>\n",
       "      <td>4</td>\n",
       "      <td>105</td>\n",
       "      <td>Williams</td>\n",
       "      <td>34000</td>\n",
       "    </tr>\n",
       "  </tbody>\n",
       "</table>\n",
       "</div>"
      ],
      "text/plain": [
       "   employee_ID     ename  esalary\n",
       "0          101     Allen    25000\n",
       "1          102    Donald    30000\n",
       "2          103     Kelly    45000\n",
       "3          104  Pattrick    40000\n",
       "4          105  Williams    34000"
      ]
     },
     "execution_count": 17,
     "metadata": {},
     "output_type": "execute_result"
    }
   ],
   "source": [
    "#how to drop a column from a dataframe\n",
    "#drop() - column-wise (axis=1)\n",
    "e_df = e_df.drop('Salary_with_bonus',axis=1)\n",
    "print(e_df)"
   ]
  },
  {
   "cell_type": "code",
   "execution_count": 33,
   "metadata": {},
   "outputs": [
    {
     "ename": "AttributeError",
     "evalue": "'NoneType' object has no attribute 'reset_index'",
     "output_type": "error",
     "traceback": [
      "\u001b[1;31m---------------------------------------------------------------------------\u001b[0m",
      "\u001b[1;31mAttributeError\u001b[0m                            Traceback (most recent call last)",
      "\u001b[1;32m<ipython-input-33-90f172e4f917>\u001b[0m in \u001b[0;36m<module>\u001b[1;34m\u001b[0m\n\u001b[0;32m      4\u001b[0m \u001b[0me_df\u001b[0m \u001b[1;33m=\u001b[0m \u001b[0me_df\u001b[0m\u001b[1;33m.\u001b[0m\u001b[0mdrop\u001b[0m\u001b[1;33m(\u001b[0m\u001b[0mindex\u001b[0m\u001b[1;33m=\u001b[0m\u001b[1;33m[\u001b[0m\u001b[1;36m2\u001b[0m\u001b[1;33m,\u001b[0m\u001b[1;36m3\u001b[0m\u001b[1;33m]\u001b[0m\u001b[1;33m,\u001b[0m\u001b[0maxis\u001b[0m\u001b[1;33m=\u001b[0m\u001b[1;36m0\u001b[0m\u001b[1;33m)\u001b[0m\u001b[1;33m\u001b[0m\u001b[1;33m\u001b[0m\u001b[0m\n\u001b[0;32m      5\u001b[0m '''\n\u001b[1;32m----> 6\u001b[1;33m \u001b[0me_df\u001b[0m\u001b[1;33m.\u001b[0m\u001b[0mreset_index\u001b[0m\u001b[1;33m(\u001b[0m\u001b[0minplace\u001b[0m\u001b[1;33m=\u001b[0m\u001b[1;32mTrue\u001b[0m\u001b[1;33m)\u001b[0m\u001b[1;33m\u001b[0m\u001b[1;33m\u001b[0m\u001b[0m\n\u001b[0m\u001b[0;32m      7\u001b[0m \u001b[0mprint\u001b[0m\u001b[1;33m(\u001b[0m\u001b[0me_df\u001b[0m\u001b[1;33m)\u001b[0m\u001b[1;33m\u001b[0m\u001b[1;33m\u001b[0m\u001b[0m\n",
      "\u001b[1;31mAttributeError\u001b[0m: 'NoneType' object has no attribute 'reset_index'"
     ]
    }
   ],
   "source": [
    "#how to drop a rows from a dataframe\n",
    "#drop() : row-wise (axis=0)\n",
    "'''\n",
    "e_df = e_df.drop(index=[2,3],axis=0)\n",
    "'''\n",
    "e_df.reset_index(inplace=True)\n",
    "print(e_df)"
   ]
  },
  {
   "cell_type": "code",
   "execution_count": 36,
   "metadata": {},
   "outputs": [
    {
     "name": "stdout",
     "output_type": "stream",
     "text": [
      "   empid     ename\n",
      "2    103     Kelly\n",
      "3    104  Pattrick\n"
     ]
    }
   ],
   "source": [
    "#accessing data from dataframe using loc & iloc\n",
    "\n",
    "#syntax : df.loc[startrow:EndRow, Startcolumn:EndColumn]\n",
    "import pandas as pd\n",
    "\n",
    "employeedet ={'empid':[101,102,103,104,105],'ename':['Allen','Donald','Kelly','Pattrick','Williams'],'esalary':[25000,30000,45000,40000,34000]}\n",
    "e_df = pd.DataFrame(employeedet)\n",
    "print(e_df.loc[2:3, : ])\n",
    "print(e_df.loc[2:3, 'empid':'ename'])\n"
   ]
  },
  {
   "cell_type": "code",
   "execution_count": 39,
   "metadata": {},
   "outputs": [
    {
     "data": {
      "text/html": [
       "<div>\n",
       "<style scoped>\n",
       "    .dataframe tbody tr th:only-of-type {\n",
       "        vertical-align: middle;\n",
       "    }\n",
       "\n",
       "    .dataframe tbody tr th {\n",
       "        vertical-align: top;\n",
       "    }\n",
       "\n",
       "    .dataframe thead th {\n",
       "        text-align: right;\n",
       "    }\n",
       "</style>\n",
       "<table border=\"1\" class=\"dataframe\">\n",
       "  <thead>\n",
       "    <tr style=\"text-align: right;\">\n",
       "      <th></th>\n",
       "      <th>empid</th>\n",
       "      <th>ename</th>\n",
       "      <th>esalary</th>\n",
       "    </tr>\n",
       "  </thead>\n",
       "  <tbody>\n",
       "    <tr>\n",
       "      <td>3</td>\n",
       "      <td>104</td>\n",
       "      <td>Pattrick</td>\n",
       "      <td>40000</td>\n",
       "    </tr>\n",
       "    <tr>\n",
       "      <td>4</td>\n",
       "      <td>105</td>\n",
       "      <td>Williams</td>\n",
       "      <td>34000</td>\n",
       "    </tr>\n",
       "  </tbody>\n",
       "</table>\n",
       "</div>"
      ],
      "text/plain": [
       "   empid     ename  esalary\n",
       "3    104  Pattrick    40000\n",
       "4    105  Williams    34000"
      ]
     },
     "execution_count": 39,
     "metadata": {},
     "output_type": "execute_result"
    }
   ],
   "source": [
    "e_df\n",
    "#top 2 records\n",
    "#e_df.head(2)\n",
    "e_df.tail(2)"
   ]
  },
  {
   "cell_type": "code",
   "execution_count": null,
   "metadata": {},
   "outputs": [],
   "source": []
  }
 ],
 "metadata": {
  "kernelspec": {
   "display_name": "Python 3",
   "language": "python",
   "name": "python3"
  },
  "language_info": {
   "codemirror_mode": {
    "name": "ipython",
    "version": 3
   },
   "file_extension": ".py",
   "mimetype": "text/x-python",
   "name": "python",
   "nbconvert_exporter": "python",
   "pygments_lexer": "ipython3",
   "version": "3.7.4"
  }
 },
 "nbformat": 4,
 "nbformat_minor": 2
}
